{
 "cells": [
  {
   "cell_type": "markdown",
   "id": "45e24818-874c-4a1c-bbec-31995beead19",
   "metadata": {},
   "source": [
    "# Reddit Project Starter Script"
   ]
  },
  {
   "cell_type": "markdown",
   "id": "31472461-d990-4b83-a1ee-79e9f41f532e",
   "metadata": {},
   "source": [
    "### Putting data into your own bucket"
   ]
  },
  {
   "cell_type": "markdown",
   "id": "126e3bc1-53f5-4e01-90ba-f0206e1693e8",
   "metadata": {},
   "source": [
    "In the following cell, you will copy your assigned subreddit from the central teaching bucket to your own persaonl bucket. This cell MUST only be executed once per account!!"
   ]
  },
  {
   "cell_type": "markdown",
   "id": "598eb41d-197c-4f0d-b207-a229e211d97c",
   "metadata": {},
   "source": [
    "### Reading your entire dataset"
   ]
  },
  {
   "cell_type": "code",
   "execution_count": 1,
   "id": "b9dc1d0a-0264-4efe-86d4-3d0756c99c9f",
   "metadata": {},
   "outputs": [],
   "source": [
    "import findspark\n",
    "findspark.init()"
   ]
  },
  {
   "cell_type": "code",
   "execution_count": 2,
   "id": "9db156f0-e1b0-4dad-99b2-a0a247af9e68",
   "metadata": {},
   "outputs": [],
   "source": [
    "from pyspark.sql.functions import col, lit\n",
    "from pyspark.sql import SparkSession"
   ]
  },
  {
   "cell_type": "code",
   "execution_count": 3,
   "id": "4ee58a4b-d098-4ae5-976a-6c08ce506032",
   "metadata": {},
   "outputs": [],
   "source": [
    "import numpy as np\n",
    "import pandas as pd\n",
    "import matplotlib.pyplot as plt\n",
    "\n",
    "from pyspark.sql import SparkSession\n",
    "from pyspark.sql.functions import *\n",
    "from pyspark.sql.types import IntegerType, StringType, DateType\n",
    "from pyspark.sql import Window\n",
    "from pyspark.sql import functions as F\n",
    "\n",
    "from pyspark.ml import Pipeline\n",
    "from pyspark.ml.classification import LogisticRegression, GBTClassifier, NaiveBayes, RandomForestClassifier\n",
    "from pyspark.ml.evaluation import MulticlassClassificationEvaluator\n",
    "from pyspark.mllib.evaluation import BinaryClassificationMetrics, MulticlassMetrics\n",
    "from pyspark.ml.feature import StringIndexer, VectorAssembler, Normalizer, StandardScaler, MinMaxScaler, IndexToString\n",
    "from pyspark.ml.feature import OneHotEncoder, StringIndexer\n",
    "from pyspark.ml.regression import LinearRegression\n",
    "from pyspark.ml.tuning import CrossValidator, CrossValidatorModel, ParamGridBuilder\n",
    "from pyspark.sql.types import *\n",
    "\n",
    "import seaborn as sns"
   ]
  },
  {
   "cell_type": "code",
   "execution_count": 4,
   "id": "3a82ccb4-e218-4821-a2fd-784909105238",
   "metadata": {},
   "outputs": [
    {
     "name": "stderr",
     "output_type": "stream",
     "text": [
      "Setting default log level to \"WARN\".\n",
      "To adjust logging level use sc.setLogLevel(newLevel). For SparkR, use setLogLevel(newLevel).\n",
      "22/05/04 15:40:46 WARN Client: Neither spark.yarn.jars nor spark.yarn.archive is set, falling back to uploading libraries under SPARK_HOME.\n",
      "22/05/04 15:40:54 WARN YarnSchedulerBackend$YarnSchedulerEndpoint: Attempted to request executors before the AM has registered!\n"
     ]
    }
   ],
   "source": [
    "spark = SparkSession.builder.appName(\"reddit\").getOrCreate()"
   ]
  },
  {
   "cell_type": "markdown",
   "id": "a6564496-f89d-4cd0-8920-1b9ab3448ea1",
   "metadata": {},
   "source": [
    "Make sure your SparkSession is active:"
   ]
  },
  {
   "cell_type": "code",
   "execution_count": 5,
   "id": "705a305d-7dbb-4c08-a7f7-0fee39840510",
   "metadata": {},
   "outputs": [
    {
     "data": {
      "text/html": [
       "\n",
       "            <div>\n",
       "                <p><b>SparkSession - in-memory</b></p>\n",
       "                \n",
       "        <div>\n",
       "            <p><b>SparkContext</b></p>\n",
       "\n",
       "            <p><a href=\"http://ip-172-31-34-243.ec2.internal:4040\">Spark UI</a></p>\n",
       "\n",
       "            <dl>\n",
       "              <dt>Version</dt>\n",
       "                <dd><code>v3.0.0-amzn-0</code></dd>\n",
       "              <dt>Master</dt>\n",
       "                <dd><code>yarn</code></dd>\n",
       "              <dt>AppName</dt>\n",
       "                <dd><code>reddit</code></dd>\n",
       "            </dl>\n",
       "        </div>\n",
       "        \n",
       "            </div>\n",
       "        "
      ],
      "text/plain": [
       "<pyspark.sql.session.SparkSession at 0x7f6109dd2250>"
      ]
     },
     "execution_count": 5,
     "metadata": {},
     "output_type": "execute_result"
    }
   ],
   "source": [
    "spark"
   ]
  },
  {
   "cell_type": "code",
   "execution_count": 7,
   "id": "edcfea00-1b0c-4c76-94c8-672551d39aba",
   "metadata": {},
   "outputs": [
    {
     "name": "stderr",
     "output_type": "stream",
     "text": [
      "                                                                                \r"
     ]
    }
   ],
   "source": [
    "#df = spark.read.parquet('s3://mk2080-lab/reddit/ym_partition=201907')\n",
    "df = spark.read.parquet('s3://mk2080-lab/reddit/')"
   ]
  },
  {
   "cell_type": "markdown",
   "id": "4674dd19-4610-43bf-9add-be638eea625f",
   "metadata": {},
   "source": [
    "### Reading one month worth of data"
   ]
  },
  {
   "cell_type": "code",
   "execution_count": 8,
   "id": "ef20a13c-78f1-4e49-b1a2-4e79e885cb19",
   "metadata": {},
   "outputs": [
    {
     "name": "stdout",
     "output_type": "stream",
     "text": [
      "                           PRE ym_partition=201907/\n",
      "                           PRE ym_partition=201908/\n",
      "                           PRE ym_partition=201909/\n",
      "                           PRE ym_partition=201910/\n",
      "                           PRE ym_partition=201911/\n",
      "                           PRE ym_partition=201912/\n",
      "                           PRE ym_partition=202001/\n",
      "                           PRE ym_partition=202002/\n",
      "                           PRE ym_partition=202003/\n",
      "                           PRE ym_partition=202004/\n",
      "                           PRE ym_partition=202005/\n",
      "                           PRE ym_partition=202006/\n",
      "                           PRE ym_partition=202007/\n",
      "                           PRE ym_partition=202008/\n",
      "                           PRE ym_partition=202009/\n",
      "                           PRE ym_partition=202010/\n",
      "                           PRE ym_partition=202011/\n",
      "                           PRE ym_partition=202012/\n",
      "                           PRE ym_partition=202101/\n",
      "                           PRE ym_partition=202102/\n",
      "                           PRE ym_partition=202103/\n",
      "                           PRE ym_partition=202104/\n",
      "                           PRE ym_partition=202105/\n",
      "                           PRE ym_partition=202106/\n",
      "2022-04-30 16:59:25          0 _SUCCESS\n"
     ]
    }
   ],
   "source": [
    "!aws s3 ls s3://mk2080-lab/reddit/"
   ]
  },
  {
   "cell_type": "code",
   "execution_count": 52,
   "id": "c1ea9584-1436-4b0d-a9ef-4d33cb0b41bb",
   "metadata": {},
   "outputs": [
    {
     "name": "stderr",
     "output_type": "stream",
     "text": [
      "                                                                                \r"
     ]
    }
   ],
   "source": [
    "df = spark.read.parquet('s3://mk2080-lab/reddit/')"
   ]
  },
  {
   "cell_type": "markdown",
   "id": "46c975a8-408f-4c06-8ed1-71d46ae36cc8",
   "metadata": {},
   "source": [
    "### Clean data "
   ]
  },
  {
   "cell_type": "code",
   "execution_count": 7,
   "id": "81648657-a4b0-4755-aac6-d77f5f07e2c3",
   "metadata": {},
   "outputs": [
    {
     "name": "stdout",
     "output_type": "stream",
     "text": [
      "root\n",
      " |-- all_awardings: string (nullable = true)\n",
      " |-- associated_award: string (nullable = true)\n",
      " |-- author: string (nullable = true)\n",
      " |-- author_created_utc: double (nullable = true)\n",
      " |-- author_flair_background_color: string (nullable = true)\n",
      " |-- author_flair_css_class: string (nullable = true)\n",
      " |-- author_flair_richtext: string (nullable = true)\n",
      " |-- author_flair_template_id: string (nullable = true)\n",
      " |-- author_flair_text: string (nullable = true)\n",
      " |-- author_flair_text_color: string (nullable = true)\n",
      " |-- author_flair_type: string (nullable = true)\n",
      " |-- author_fullname: string (nullable = true)\n",
      " |-- author_patreon_flair: boolean (nullable = true)\n",
      " |-- author_premium: boolean (nullable = true)\n",
      " |-- awarders: string (nullable = true)\n",
      " |-- body: string (nullable = true)\n",
      " |-- can_gild: boolean (nullable = true)\n",
      " |-- can_mod_post: boolean (nullable = true)\n",
      " |-- collapsed: boolean (nullable = true)\n",
      " |-- collapsed_because_crowd_control: string (nullable = true)\n",
      " |-- collapsed_reason: string (nullable = true)\n",
      " |-- comment_type: string (nullable = true)\n",
      " |-- controversiality: long (nullable = true)\n",
      " |-- created_utc: long (nullable = true)\n",
      " |-- distinguished: string (nullable = true)\n",
      " |-- edited: double (nullable = true)\n",
      " |-- gilded: long (nullable = true)\n",
      " |-- gildings: string (nullable = true)\n",
      " |-- id: string (nullable = true)\n",
      " |-- is_submitter: boolean (nullable = true)\n",
      " |-- link_id: string (nullable = true)\n",
      " |-- locked: boolean (nullable = true)\n",
      " |-- no_follow: boolean (nullable = true)\n",
      " |-- parent_id: string (nullable = true)\n",
      " |-- permalink: string (nullable = true)\n",
      " |-- quarantined: boolean (nullable = true)\n",
      " |-- removal_reason: string (nullable = true)\n",
      " |-- retrieved_on: long (nullable = true)\n",
      " |-- score: long (nullable = true)\n",
      " |-- send_replies: boolean (nullable = true)\n",
      " |-- stickied: boolean (nullable = true)\n",
      " |-- subreddit_id: string (nullable = true)\n",
      " |-- subreddit_name_prefixed: string (nullable = true)\n",
      " |-- subreddit_type: string (nullable = true)\n",
      " |-- top_awarded_type: string (nullable = true)\n",
      " |-- total_awards_received: long (nullable = true)\n",
      " |-- treatment_tags: string (nullable = true)\n",
      " |-- author_cakeday: boolean (nullable = true)\n",
      " |-- editable: boolean (nullable = true)\n",
      " |-- media_metadata: string (nullable = true)\n",
      " |-- ym_partition: integer (nullable = true)\n",
      "\n"
     ]
    }
   ],
   "source": [
    "df.printSchema()"
   ]
  },
  {
   "cell_type": "code",
   "execution_count": 9,
   "id": "326fa407-ed9c-4069-a9e4-09b3798d5ae6",
   "metadata": {},
   "outputs": [],
   "source": [
    "## change booleans to string for cleaning purposes\n",
    "from pyspark.sql.types import StringType\n",
    "\n",
    "df = df.withColumn(\"author_patreon_flair\", col(\"author_patreon_flair\").cast(StringType())) \\\n",
    "   .withColumn(\"author_premium\",col(\"author_premium\").cast(StringType())) \\\n",
    "   .withColumn(\"can_gild\",col(\"can_gild\").cast(StringType())) \\\n",
    "   .withColumn(\"can_mod_post\",col(\"can_mod_post\").cast(StringType())) \\\n",
    "   .withColumn(\"collapsed\",col(\"collapsed\").cast(StringType())) \\\n",
    "   .withColumn(\"is_submitter\",col(\"is_submitter\").cast(StringType())) \\\n",
    "   .withColumn(\"locked\",col(\"locked\").cast(StringType())) \\\n",
    "   .withColumn(\"quarantined\",col(\"quarantined\").cast(StringType())) \\\n",
    "   .withColumn(\"send_replies\",col(\"send_replies\").cast(StringType())) \\\n",
    "   .withColumn(\"stickied\",col(\"stickied\").cast(StringType())) \\\n",
    "   .withColumn(\"author_cakeday\",col(\"author_cakeday\").cast(StringType())) \\\n",
    "   .withColumn(\"no_follow\",col(\"no_follow\").cast(StringType())) \\\n",
    "   .withColumn(\"editable\",col(\"editable\").cast(StringType()))"
   ]
  },
  {
   "cell_type": "code",
   "execution_count": 10,
   "id": "7965a5f9-89fa-4aa8-a5a7-915a0f3de62a",
   "metadata": {},
   "outputs": [],
   "source": [
    "## look at NA's\n",
    "def count_missing(df, col):\n",
    "    \"\"\"\n",
    "    Function that counts missing values (nan, null, empty) in a column of the dataset.\n",
    "    \"\"\"\n",
    "    return df.filter((isnan(df[col])) | (df[col].isNull()) | (df[col] == \"\")).count()"
   ]
  },
  {
   "cell_type": "code",
   "execution_count": 11,
   "id": "66b3a567-d4f1-4ae5-a890-d15377782098",
   "metadata": {},
   "outputs": [
    {
     "name": "stderr",
     "output_type": "stream",
     "text": [
      "22/05/04 15:42:39 WARN package: Truncated the string representation of a plan since it was too large. This behavior can be adjusted by setting 'spark.sql.debug.maxToStringFields'.\n",
      "                                                                                \r"
     ]
    },
    {
     "name": "stdout",
     "output_type": "stream",
     "text": [
      "all_awardings: 0.0\n"
     ]
    },
    {
     "name": "stderr",
     "output_type": "stream",
     "text": [
      "                                                                                \r"
     ]
    },
    {
     "name": "stdout",
     "output_type": "stream",
     "text": [
      "associated_award: 0.6042199939858268\n"
     ]
    },
    {
     "name": "stderr",
     "output_type": "stream",
     "text": [
      "                                                                                \r"
     ]
    },
    {
     "name": "stdout",
     "output_type": "stream",
     "text": [
      "author: 0.0\n",
      "author_created_utc: 30.902302981567427\n",
      "author_flair_background_color: 100.0\n",
      "author_flair_css_class: 98.65617789814553\n"
     ]
    },
    {
     "name": "stderr",
     "output_type": "stream",
     "text": [
      "                                                                                \r"
     ]
    },
    {
     "name": "stdout",
     "output_type": "stream",
     "text": [
      "author_flair_richtext: 9.224685841637593\n",
      "author_flair_template_id: 100.0\n",
      "author_flair_text: 100.0\n",
      "author_flair_text_color: 89.43149205650795\n"
     ]
    },
    {
     "name": "stderr",
     "output_type": "stream",
     "text": [
      "                                                                                \r"
     ]
    },
    {
     "name": "stdout",
     "output_type": "stream",
     "text": [
      "author_flair_type: 9.224685841637593\n"
     ]
    },
    {
     "name": "stderr",
     "output_type": "stream",
     "text": [
      "                                                                                \r"
     ]
    },
    {
     "name": "stdout",
     "output_type": "stream",
     "text": [
      "author_fullname: 9.224685841637593\n"
     ]
    },
    {
     "name": "stderr",
     "output_type": "stream",
     "text": [
      "                                                                                \r"
     ]
    },
    {
     "name": "stdout",
     "output_type": "stream",
     "text": [
      "author_patreon_flair: 9.224685841637593\n"
     ]
    },
    {
     "name": "stderr",
     "output_type": "stream",
     "text": [
      "                                                                                \r"
     ]
    },
    {
     "name": "stdout",
     "output_type": "stream",
     "text": [
      "author_premium: 8.322117342966125\n"
     ]
    },
    {
     "name": "stderr",
     "output_type": "stream",
     "text": [
      "                                                                                \r"
     ]
    },
    {
     "name": "stdout",
     "output_type": "stream",
     "text": [
      "awarders: 2.0101435962858796\n"
     ]
    },
    {
     "name": "stderr",
     "output_type": "stream",
     "text": [
      "                                                                                \r"
     ]
    },
    {
     "name": "stdout",
     "output_type": "stream",
     "text": [
      "body: 0.0005268196508787246\n"
     ]
    },
    {
     "name": "stderr",
     "output_type": "stream",
     "text": [
      "                                                                                \r"
     ]
    },
    {
     "name": "stdout",
     "output_type": "stream",
     "text": [
      "can_gild: 0.0\n"
     ]
    },
    {
     "name": "stderr",
     "output_type": "stream",
     "text": [
      "                                                                                \r"
     ]
    },
    {
     "name": "stdout",
     "output_type": "stream",
     "text": [
      "can_mod_post: 0.0\n"
     ]
    },
    {
     "name": "stderr",
     "output_type": "stream",
     "text": [
      "                                                                                \r"
     ]
    },
    {
     "name": "stdout",
     "output_type": "stream",
     "text": [
      "collapsed: 0.0\n",
      "collapsed_because_crowd_control: 100.0\n",
      "collapsed_reason: 99.40525222333697\n",
      "comment_type: 100.0\n",
      "controversiality: 0.0\n"
     ]
    },
    {
     "name": "stderr",
     "output_type": "stream",
     "text": [
      "                                                                                \r"
     ]
    },
    {
     "name": "stdout",
     "output_type": "stream",
     "text": [
      "created_utc: 0.0\n"
     ]
    },
    {
     "name": "stderr",
     "output_type": "stream",
     "text": [
      "                                                                                \r"
     ]
    },
    {
     "name": "stdout",
     "output_type": "stream",
     "text": [
      "distinguished: 36.940414800934875\n",
      "edited: 98.26019917575904\n",
      "gilded: 0.0\n"
     ]
    },
    {
     "name": "stderr",
     "output_type": "stream",
     "text": [
      "                                                                                \r"
     ]
    },
    {
     "name": "stdout",
     "output_type": "stream",
     "text": [
      "gildings: 0.0\n"
     ]
    },
    {
     "name": "stderr",
     "output_type": "stream",
     "text": [
      "                                                                                \r"
     ]
    },
    {
     "name": "stdout",
     "output_type": "stream",
     "text": [
      "id: 0.0\n"
     ]
    },
    {
     "name": "stderr",
     "output_type": "stream",
     "text": [
      "                                                                                \r"
     ]
    },
    {
     "name": "stdout",
     "output_type": "stream",
     "text": [
      "is_submitter: 0.0\n"
     ]
    },
    {
     "name": "stderr",
     "output_type": "stream",
     "text": [
      "                                                                                \r"
     ]
    },
    {
     "name": "stdout",
     "output_type": "stream",
     "text": [
      "link_id: 0.0\n"
     ]
    },
    {
     "name": "stderr",
     "output_type": "stream",
     "text": [
      "                                                                                \r"
     ]
    },
    {
     "name": "stdout",
     "output_type": "stream",
     "text": [
      "locked: 0.0\n"
     ]
    },
    {
     "name": "stderr",
     "output_type": "stream",
     "text": [
      "                                                                                \r"
     ]
    },
    {
     "name": "stdout",
     "output_type": "stream",
     "text": [
      "no_follow: 0.0\n"
     ]
    },
    {
     "name": "stderr",
     "output_type": "stream",
     "text": [
      "                                                                                \r"
     ]
    },
    {
     "name": "stdout",
     "output_type": "stream",
     "text": [
      "parent_id: 0.0\n"
     ]
    },
    {
     "name": "stderr",
     "output_type": "stream",
     "text": [
      "                                                                                \r"
     ]
    },
    {
     "name": "stdout",
     "output_type": "stream",
     "text": [
      "permalink: 0.0\n"
     ]
    },
    {
     "name": "stderr",
     "output_type": "stream",
     "text": [
      "                                                                                \r"
     ]
    },
    {
     "name": "stdout",
     "output_type": "stream",
     "text": [
      "quarantined: 0.0\n",
      "removal_reason: 99.99996839082095\n"
     ]
    },
    {
     "name": "stderr",
     "output_type": "stream",
     "text": [
      "                                                                                \r"
     ]
    },
    {
     "name": "stdout",
     "output_type": "stream",
     "text": [
      "retrieved_on: 14.136035791705625\n",
      "score: 0.0\n"
     ]
    },
    {
     "name": "stderr",
     "output_type": "stream",
     "text": [
      "                                                                                \r"
     ]
    },
    {
     "name": "stdout",
     "output_type": "stream",
     "text": [
      "send_replies: 0.0\n"
     ]
    },
    {
     "name": "stderr",
     "output_type": "stream",
     "text": [
      "                                                                                \r"
     ]
    },
    {
     "name": "stdout",
     "output_type": "stream",
     "text": [
      "stickied: 0.0\n"
     ]
    },
    {
     "name": "stderr",
     "output_type": "stream",
     "text": [
      "                                                                                \r"
     ]
    },
    {
     "name": "stdout",
     "output_type": "stream",
     "text": [
      "subreddit_id: 0.0\n"
     ]
    },
    {
     "name": "stderr",
     "output_type": "stream",
     "text": [
      "                                                                                \r"
     ]
    },
    {
     "name": "stdout",
     "output_type": "stream",
     "text": [
      "subreddit_name_prefixed: 14.136035791705625\n"
     ]
    },
    {
     "name": "stderr",
     "output_type": "stream",
     "text": [
      "                                                                                \r"
     ]
    },
    {
     "name": "stdout",
     "output_type": "stream",
     "text": [
      "subreddit_type: 0.0\n",
      "top_awarded_type: 100.0\n",
      "total_awards_received: 0.0\n"
     ]
    },
    {
     "name": "stderr",
     "output_type": "stream",
     "text": [
      "                                                                                \r"
     ]
    },
    {
     "name": "stdout",
     "output_type": "stream",
     "text": [
      "treatment_tags: 0.05191280839758952\n",
      "author_cakeday: 99.62537854626014\n"
     ]
    },
    {
     "name": "stderr",
     "output_type": "stream",
     "text": [
      "                                                                                \r"
     ]
    },
    {
     "name": "stdout",
     "output_type": "stream",
     "text": [
      "editable: 38.55207201329608\n"
     ]
    },
    {
     "name": "stderr",
     "output_type": "stream",
     "text": [
      "                                                                                \r"
     ]
    },
    {
     "name": "stdout",
     "output_type": "stream",
     "text": [
      "media_metadata: 96.85098821883751\n",
      "ym_partition: 0.0\n"
     ]
    }
   ],
   "source": [
    "# check for missing percentages by column\n",
    "for column in df.columns:\n",
    "    missing_count = count_missing(df, column)\n",
    "    missing_percentage = missing_count/df.count()*100\n",
    "    print(f\"{column}: {missing_percentage}\")"
   ]
  },
  {
   "cell_type": "markdown",
   "id": "e40130f2-a65b-4bdc-b5eb-09cde3c184b0",
   "metadata": {},
   "source": [
    "#### Remove entirely empty columns"
   ]
  },
  {
   "cell_type": "code",
   "execution_count": 12,
   "id": "d5ea79a5-76d2-42e8-9efd-2ba9c2085b0e",
   "metadata": {},
   "outputs": [
    {
     "name": "stderr",
     "output_type": "stream",
     "text": [
      "                                                                                \r"
     ]
    }
   ],
   "source": [
    "## some columns are entirely empty, let's drop those columns\n",
    "\n",
    "for column in df.columns:\n",
    "    if (df.filter(F.isnan(F.col(column)) == True).count() == df.select(F.col(column)).count()):\n",
    "        df = df.drop(column) \n",
    "\n",
    "for column in df.columns:\n",
    "    if (df.filter(F.col(column).isNull()).count() == df.select(F.col(column)).count()):\n",
    "        df = df.drop(column)"
   ]
  },
  {
   "cell_type": "markdown",
   "id": "44e678d8-590a-4b91-aed5-1398aeccb0f0",
   "metadata": {},
   "source": [
    "#### Remove entirely homoegenous columns"
   ]
  },
  {
   "cell_type": "code",
   "execution_count": 13,
   "id": "6a1b8b24-d0f3-42f7-964d-9a7df651313e",
   "metadata": {},
   "outputs": [
    {
     "name": "stderr",
     "output_type": "stream",
     "text": [
      "                                                                                \r"
     ]
    }
   ],
   "source": [
    "## drop columns where all values are the exact same\n",
    "col_counts = df.agg(*(countDistinct(col(c)).alias(c) for c in df.columns)).collect()[0].asDict()\n",
    "\n",
    "## select the cols with count=1 in an array\n",
    "cols_to_drop = [c for c in df.columns if col_counts[c] == 1]\n",
    "\n",
    "## drop the selected colum\n",
    "df = df.drop(*cols_to_drop)"
   ]
  },
  {
   "cell_type": "markdown",
   "id": "4a41d9bd-5278-46c6-8c22-4aae0601f6fe",
   "metadata": {},
   "source": [
    "# Exploratory Analysis"
   ]
  },
  {
   "cell_type": "markdown",
   "id": "c171d7f3-e382-4e3a-9299-23d1b6138016",
   "metadata": {},
   "source": [
    "Explore, assess and visualize the data. Aggregate, count, and summarize. Create graphs, tables, etc, and explain your findings in writing. Clean data if necessary. Extract useful information from the text of the comments to create additional variables in your dataset.\n",
    "\n",
    "Recommended exploratory graph types: number of posts over time, changes in number of users posting, score variation from particular users, popular posts impact using score or commments"
   ]
  },
  {
   "cell_type": "markdown",
   "id": "2760da2d-d8ea-4b6e-bfff-f4384e6c969c",
   "metadata": {},
   "source": [
    "### Shape of the data"
   ]
  },
  {
   "cell_type": "code",
   "execution_count": 21,
   "id": "935ef898-8689-4d19-a821-5b864554d36d",
   "metadata": {},
   "outputs": [],
   "source": [
    "## shape\n",
    "def shape_of_df(df):\n",
    "    print(\n",
    "    \"Rows:\",\n",
    "    df.count(),\n",
    "    \"/ Columns:\",\n",
    "    len(df.columns)\n",
    "    )"
   ]
  },
  {
   "cell_type": "code",
   "execution_count": 22,
   "id": "6adfa9aa-bcd6-42cf-b088-f6d50a3cf548",
   "metadata": {},
   "outputs": [
    {
     "name": "stderr",
     "output_type": "stream",
     "text": [
      "[Stage 1049:=========================================>           (45 + 12) / 57]\r"
     ]
    },
    {
     "name": "stdout",
     "output_type": "stream",
     "text": [
      "Rows: 7629095 / Columns: 38\n"
     ]
    },
    {
     "name": "stderr",
     "output_type": "stream",
     "text": [
      "                                                                                \r"
     ]
    }
   ],
   "source": [
    "shape_of_df(df)"
   ]
  },
  {
   "cell_type": "markdown",
   "id": "712c447d-b101-4b35-a7bc-9b10e2d2728a",
   "metadata": {},
   "source": [
    "### Extracting data from the text "
   ]
  },
  {
   "cell_type": "code",
   "execution_count": 23,
   "id": "4dae6ccb-4012-46fc-ba52-507f68e3074b",
   "metadata": {},
   "outputs": [],
   "source": [
    "## length of characters \n",
    "df = df.withColumn('length_of_text', F.length('body'))"
   ]
  },
  {
   "cell_type": "code",
   "execution_count": 24,
   "id": "0a5c698c-648e-4d84-b42d-37d79e1542f3",
   "metadata": {},
   "outputs": [
    {
     "data": {
      "text/plain": [
       "b'\\xf0\\x9f\\xa7\\xa0'"
      ]
     },
     "execution_count": 24,
     "metadata": {},
     "output_type": "execute_result"
    }
   ],
   "source": [
    "## Figuring out emojis\n",
    "line = '🧠'\n",
    "line.encode('utf-8')"
   ]
  },
  {
   "cell_type": "code",
   "execution_count": 25,
   "id": "5925da05-0ab4-4f56-a809-eedb8bacb100",
   "metadata": {},
   "outputs": [],
   "source": [
    "## all emojis when encoded use the 'xf0' so we can can use that to create an emoji dummy variable\n",
    "df = df.withColumn('encoded', decode(col('body'),'UTF-8'))\n",
    "df = df.withColumn('text_has_emoji',when(df.encoded.contains('\\xf0'),1).otherwise(0))"
   ]
  },
  {
   "cell_type": "code",
   "execution_count": 26,
   "id": "59231137-12ad-43e4-b081-529fce1131bd",
   "metadata": {},
   "outputs": [],
   "source": [
    "## has cuss words?\n",
    "en_cuss_words = ['shit', 'crap', 'fuck', 'bitch', 'damn', 'ass']\n",
    "df = df.withColumn('text_has_cussword',when(df.body.isin(en_cuss_words),1).otherwise(0))"
   ]
  },
  {
   "cell_type": "markdown",
   "id": "b5cb8004-169f-4369-adf0-2a2e3289e803",
   "metadata": {},
   "source": [
    "### Column descriptions"
   ]
  },
  {
   "cell_type": "code",
   "execution_count": 18,
   "id": "bcc69339-df3c-4758-b95a-d986966b2cee",
   "metadata": {},
   "outputs": [
    {
     "name": "stderr",
     "output_type": "stream",
     "text": [
      "                                                                                \r"
     ]
    },
    {
     "name": "stdout",
     "output_type": "stream",
     "text": [
      "+-------+--------------------+\n",
      "|summary|       all_awardings|\n",
      "+-------+--------------------+\n",
      "|  count|             9490914|\n",
      "|   mean|                null|\n",
      "| stddev|                null|\n",
      "|    min|                  []|\n",
      "|    max|[{'award_type': '...|\n",
      "+-------+--------------------+\n",
      "\n"
     ]
    },
    {
     "name": "stderr",
     "output_type": "stream",
     "text": [
      "                                                                                \r"
     ]
    },
    {
     "name": "stdout",
     "output_type": "stream",
     "text": [
      "+-------+----------------+\n",
      "|summary|associated_award|\n",
      "+-------+----------------+\n",
      "|  count|         9490914|\n",
      "|   mean|             NaN|\n",
      "| stddev|             NaN|\n",
      "|    min|            None|\n",
      "|    max|             nan|\n",
      "+-------+----------------+\n",
      "\n"
     ]
    },
    {
     "name": "stderr",
     "output_type": "stream",
     "text": [
      "                                                                                \r"
     ]
    },
    {
     "name": "stdout",
     "output_type": "stream",
     "text": [
      "+-------+--------------------+\n",
      "|summary|              author|\n",
      "+-------+--------------------+\n",
      "|  count|             9490914|\n",
      "|   mean|            Infinity|\n",
      "| stddev|                 NaN|\n",
      "|    min|------------------GL|\n",
      "|    max|             zzzzzxr|\n",
      "+-------+--------------------+\n",
      "\n",
      "+-------+-------------------+\n",
      "|summary| author_created_utc|\n",
      "+-------+-------------------+\n",
      "|  count|            6558003|\n",
      "|   mean|1.449443209390906E9|\n",
      "| stddev|8.971531653110369E7|\n",
      "|    min|        1.1225232E9|\n",
      "|    max|      1.625073263E9|\n",
      "+-------+-------------------+\n",
      "\n"
     ]
    },
    {
     "name": "stderr",
     "output_type": "stream",
     "text": [
      "                                                                                \r"
     ]
    },
    {
     "name": "stdout",
     "output_type": "stream",
     "text": [
      "+-------+----------------------+\n",
      "|summary|author_flair_css_class|\n",
      "+-------+----------------------+\n",
      "|  count|                127541|\n",
      "|   mean|                  null|\n",
      "| stddev|                  null|\n",
      "|    min|                     F|\n",
      "|    max|                     g|\n",
      "+-------+----------------------+\n",
      "\n"
     ]
    },
    {
     "name": "stderr",
     "output_type": "stream",
     "text": [
      "                                                                                \r"
     ]
    },
    {
     "name": "stdout",
     "output_type": "stream",
     "text": [
      "+-------+---------------------+\n",
      "|summary|author_flair_richtext|\n",
      "+-------+---------------------+\n",
      "|  count|              9490914|\n",
      "|   mean|                  NaN|\n",
      "| stddev|                  NaN|\n",
      "|    min|                   []|\n",
      "|    max|                  nan|\n",
      "+-------+---------------------+\n",
      "\n"
     ]
    },
    {
     "name": "stderr",
     "output_type": "stream",
     "text": [
      "                                                                                \r"
     ]
    },
    {
     "name": "stdout",
     "output_type": "stream",
     "text": [
      "+-------+---------------+\n",
      "|summary|author_fullname|\n",
      "+-------+---------------+\n",
      "|  count|        8615407|\n",
      "|   mean|           null|\n",
      "| stddev|           null|\n",
      "|    min|      t2_100047|\n",
      "|    max|       t2_zzzzc|\n",
      "+-------+---------------+\n",
      "\n"
     ]
    },
    {
     "name": "stderr",
     "output_type": "stream",
     "text": [
      "                                                                                \r"
     ]
    },
    {
     "name": "stdout",
     "output_type": "stream",
     "text": [
      "+-------+--------------+\n",
      "|summary|author_premium|\n",
      "+-------+--------------+\n",
      "|  count|       8701069|\n",
      "|   mean|          null|\n",
      "| stddev|          null|\n",
      "|    min|         false|\n",
      "|    max|          true|\n",
      "+-------+--------------+\n",
      "\n"
     ]
    },
    {
     "name": "stderr",
     "output_type": "stream",
     "text": [
      "                                                                                \r"
     ]
    },
    {
     "name": "stdout",
     "output_type": "stream",
     "text": [
      "+-------+--------+\n",
      "|summary|awarders|\n",
      "+-------+--------+\n",
      "|  count| 9300133|\n",
      "|   mean|    null|\n",
      "| stddev|    null|\n",
      "|    min|    <NA>|\n",
      "|    max|      []|\n",
      "+-------+--------+\n",
      "\n"
     ]
    },
    {
     "name": "stderr",
     "output_type": "stream",
     "text": [
      "                                                                                \r"
     ]
    },
    {
     "name": "stdout",
     "output_type": "stream",
     "text": [
      "+-------+--------------------+\n",
      "|summary|                body|\n",
      "+-------+--------------------+\n",
      "|  count|             9490914|\n",
      "|   mean|                 NaN|\n",
      "| stddev|                 NaN|\n",
      "|    min|                    |\n",
      "|    max|🩰\"What does this...|\n",
      "+-------+--------------------+\n",
      "\n"
     ]
    },
    {
     "name": "stderr",
     "output_type": "stream",
     "text": [
      "                                                                                \r"
     ]
    },
    {
     "name": "stdout",
     "output_type": "stream",
     "text": [
      "+-------+--------+\n",
      "|summary|can_gild|\n",
      "+-------+--------+\n",
      "|  count| 9490914|\n",
      "|   mean|    null|\n",
      "| stddev|    null|\n",
      "|    min|   false|\n",
      "|    max|    true|\n",
      "+-------+--------+\n",
      "\n"
     ]
    },
    {
     "name": "stderr",
     "output_type": "stream",
     "text": [
      "                                                                                \r"
     ]
    },
    {
     "name": "stdout",
     "output_type": "stream",
     "text": [
      "+-------+---------+\n",
      "|summary|collapsed|\n",
      "+-------+---------+\n",
      "|  count|  9490914|\n",
      "|   mean|     null|\n",
      "| stddev|     null|\n",
      "|    min|    false|\n",
      "|    max|     true|\n",
      "+-------+---------+\n",
      "\n",
      "+-------+--------------------+\n",
      "|summary|    collapsed_reason|\n",
      "+-------+--------------------+\n",
      "|  count|               56447|\n",
      "|   mean|                null|\n",
      "| stddev|                null|\n",
      "|    min|comment score bel...|\n",
      "|    max|potentially toxic...|\n",
      "+-------+--------------------+\n",
      "\n",
      "+-------+--------------------+\n",
      "|summary|    controversiality|\n",
      "+-------+--------------------+\n",
      "|  count|             9490914|\n",
      "|   mean|0.012070281113072987|\n",
      "| stddev| 0.10919977419091166|\n",
      "|    min|                   0|\n",
      "|    max|                   1|\n",
      "+-------+--------------------+\n",
      "\n",
      "+-------+-------------------+\n",
      "|summary|        created_utc|\n",
      "+-------+-------------------+\n",
      "|  count|            9490914|\n",
      "|   mean|1.588889503262894E9|\n",
      "| stddev|1.783304960263034E7|\n",
      "|    min|         1561939205|\n",
      "|    max|         1625097599|\n",
      "+-------+-------------------+\n",
      "\n"
     ]
    },
    {
     "name": "stderr",
     "output_type": "stream",
     "text": [
      "                                                                                \r"
     ]
    },
    {
     "name": "stdout",
     "output_type": "stream",
     "text": [
      "+-------+-------------+\n",
      "|summary|distinguished|\n",
      "+-------+-------------+\n",
      "|  count|      5984931|\n",
      "|   mean|         null|\n",
      "| stddev|         null|\n",
      "|    min|         None|\n",
      "|    max|    moderator|\n",
      "+-------+-------------+\n",
      "\n"
     ]
    },
    {
     "name": "stderr",
     "output_type": "stream",
     "text": [
      "                                                                                \r"
     ]
    },
    {
     "name": "stdout",
     "output_type": "stream",
     "text": [
      "+-------+--------------------+\n",
      "|summary|              edited|\n",
      "+-------+--------------------+\n",
      "|  count|              165123|\n",
      "|   mean|1.5915742453599317E9|\n",
      "| stddev| 1.837073084547863E7|\n",
      "|    min|       1.561940229E9|\n",
      "|    max|       1.628364365E9|\n",
      "+-------+--------------------+\n",
      "\n",
      "+-------+--------------------+\n",
      "|summary|              gilded|\n",
      "+-------+--------------------+\n",
      "|  count|             9490914|\n",
      "|   mean|2.942814569808556E-4|\n",
      "| stddev|0.019088406724845963|\n",
      "|    min|                   0|\n",
      "|    max|                  12|\n",
      "+-------+--------------------+\n",
      "\n"
     ]
    },
    {
     "name": "stderr",
     "output_type": "stream",
     "text": [
      "                                                                                \r"
     ]
    },
    {
     "name": "stdout",
     "output_type": "stream",
     "text": [
      "+-------+--------------------+\n",
      "|summary|            gildings|\n",
      "+-------+--------------------+\n",
      "|  count|             9490914|\n",
      "|   mean|                null|\n",
      "| stddev|                null|\n",
      "|    min|{'gid_1': 1, 'gid...|\n",
      "|    max|                  {}|\n",
      "+-------+--------------------+\n",
      "\n"
     ]
    },
    {
     "name": "stderr",
     "output_type": "stream",
     "text": [
      "                                                                                \r"
     ]
    },
    {
     "name": "stdout",
     "output_type": "stream",
     "text": [
      "+-------+-------+\n",
      "|summary|     id|\n",
      "+-------+-------+\n",
      "|  count|9490914|\n",
      "|   mean|   null|\n",
      "| stddev|   null|\n",
      "|    min|esfzqam|\n",
      "|    max|h3mfw3n|\n",
      "+-------+-------+\n",
      "\n"
     ]
    },
    {
     "name": "stderr",
     "output_type": "stream",
     "text": [
      "                                                                                \r"
     ]
    },
    {
     "name": "stdout",
     "output_type": "stream",
     "text": [
      "+-------+------------+\n",
      "|summary|is_submitter|\n",
      "+-------+------------+\n",
      "|  count|     9490914|\n",
      "|   mean|        null|\n",
      "| stddev|        null|\n",
      "|    min|       false|\n",
      "|    max|        true|\n",
      "+-------+------------+\n",
      "\n"
     ]
    },
    {
     "name": "stderr",
     "output_type": "stream",
     "text": [
      "                                                                                \r"
     ]
    },
    {
     "name": "stdout",
     "output_type": "stream",
     "text": [
      "+-------+---------+\n",
      "|summary|  link_id|\n",
      "+-------+---------+\n",
      "|  count|  9490914|\n",
      "|   mean|     null|\n",
      "| stddev|     null|\n",
      "|    min|t3_207ojx|\n",
      "|    max|t3_ob9sbe|\n",
      "+-------+---------+\n",
      "\n"
     ]
    },
    {
     "name": "stderr",
     "output_type": "stream",
     "text": [
      "                                                                                \r"
     ]
    },
    {
     "name": "stdout",
     "output_type": "stream",
     "text": [
      "+-------+-------+\n",
      "|summary| locked|\n",
      "+-------+-------+\n",
      "|  count|9490914|\n",
      "|   mean|   null|\n",
      "| stddev|   null|\n",
      "|    min|  false|\n",
      "|    max|   true|\n",
      "+-------+-------+\n",
      "\n"
     ]
    },
    {
     "name": "stderr",
     "output_type": "stream",
     "text": [
      "                                                                                \r"
     ]
    },
    {
     "name": "stdout",
     "output_type": "stream",
     "text": [
      "+-------+---------+\n",
      "|summary|no_follow|\n",
      "+-------+---------+\n",
      "|  count|  9490914|\n",
      "|   mean|     null|\n",
      "| stddev|     null|\n",
      "|    min|    false|\n",
      "|    max|     true|\n",
      "+-------+---------+\n",
      "\n"
     ]
    },
    {
     "name": "stderr",
     "output_type": "stream",
     "text": [
      "                                                                                \r"
     ]
    },
    {
     "name": "stdout",
     "output_type": "stream",
     "text": [
      "+-------+----------+\n",
      "|summary| parent_id|\n",
      "+-------+----------+\n",
      "|  count|   9490914|\n",
      "|   mean|      null|\n",
      "| stddev|      null|\n",
      "|    min|t1_edjfkkl|\n",
      "|    max| t3_ob9sbe|\n",
      "+-------+----------+\n",
      "\n"
     ]
    },
    {
     "name": "stderr",
     "output_type": "stream",
     "text": [
      "                                                                                \r"
     ]
    },
    {
     "name": "stdout",
     "output_type": "stream",
     "text": [
      "+-------+--------------------+\n",
      "|summary|           permalink|\n",
      "+-------+--------------------+\n",
      "|  count|             9490914|\n",
      "|   mean|                null|\n",
      "| stddev|                null|\n",
      "|    min|/r/Showerthoughts...|\n",
      "|    max|/r/Showerthoughts...|\n",
      "+-------+--------------------+\n",
      "\n",
      "+-------+--------------------+\n",
      "|summary|        retrieved_on|\n",
      "+-------+--------------------+\n",
      "|  count|             8149275|\n",
      "|   mean|1.5929756961004722E9|\n",
      "| stddev|1.5055690813106552E7|\n",
      "|    min|          1571171859|\n",
      "|    max|          1622532536|\n",
      "+-------+--------------------+\n",
      "\n",
      "+-------+------------------+\n",
      "|summary|             score|\n",
      "+-------+------------------+\n",
      "|  count|           9490914|\n",
      "|   mean|10.391566502446445|\n",
      "| stddev|148.04589867698036|\n",
      "|    min|             -1136|\n",
      "|    max|             37208|\n",
      "+-------+------------------+\n",
      "\n"
     ]
    },
    {
     "name": "stderr",
     "output_type": "stream",
     "text": [
      "                                                                                \r"
     ]
    },
    {
     "name": "stdout",
     "output_type": "stream",
     "text": [
      "+-------+------------+\n",
      "|summary|send_replies|\n",
      "+-------+------------+\n",
      "|  count|     9490914|\n",
      "|   mean|        null|\n",
      "| stddev|        null|\n",
      "|    min|       false|\n",
      "|    max|        true|\n",
      "+-------+------------+\n",
      "\n"
     ]
    },
    {
     "name": "stderr",
     "output_type": "stream",
     "text": [
      "                                                                                \r"
     ]
    },
    {
     "name": "stdout",
     "output_type": "stream",
     "text": [
      "+-------+--------+\n",
      "|summary|stickied|\n",
      "+-------+--------+\n",
      "|  count| 9490914|\n",
      "|   mean|    null|\n",
      "| stddev|    null|\n",
      "|    min|   false|\n",
      "|    max|    true|\n",
      "+-------+--------+\n",
      "\n",
      "+-------+---------------------+\n",
      "|summary|total_awards_received|\n",
      "+-------+---------------------+\n",
      "|  count|              9490914|\n",
      "|   mean| 0.003098226366817...|\n",
      "| stddev|  0.12842764686224709|\n",
      "|    min|                    0|\n",
      "|    max|                  126|\n",
      "+-------+---------------------+\n",
      "\n"
     ]
    },
    {
     "name": "stderr",
     "output_type": "stream",
     "text": [
      "                                                                                \r"
     ]
    },
    {
     "name": "stdout",
     "output_type": "stream",
     "text": [
      "+-------+--------------+\n",
      "|summary|treatment_tags|\n",
      "+-------+--------------+\n",
      "|  count|       9490914|\n",
      "|   mean|           NaN|\n",
      "| stddev|           NaN|\n",
      "|    min|          <NA>|\n",
      "|    max|           nan|\n",
      "+-------+--------------+\n",
      "\n"
     ]
    },
    {
     "name": "stderr",
     "output_type": "stream",
     "text": [
      "                                                                                \r"
     ]
    },
    {
     "name": "stdout",
     "output_type": "stream",
     "text": [
      "+-------+--------------+\n",
      "|summary|media_metadata|\n",
      "+-------+--------------+\n",
      "|  count|       9487557|\n",
      "|   mean|           NaN|\n",
      "| stddev|           NaN|\n",
      "|    min|          <NA>|\n",
      "|    max|           nan|\n",
      "+-------+--------------+\n",
      "\n",
      "+-------+------------------+\n",
      "|summary|      ym_partition|\n",
      "+-------+------------------+\n",
      "|  count|           9490914|\n",
      "|   mean|201989.76287900197|\n",
      "| stddev| 67.52548185901614|\n",
      "|    min|            201907|\n",
      "|    max|            202106|\n",
      "+-------+------------------+\n",
      "\n"
     ]
    },
    {
     "name": "stderr",
     "output_type": "stream",
     "text": [
      "                                                                                \r"
     ]
    },
    {
     "name": "stdout",
     "output_type": "stream",
     "text": [
      "+-------+------------------+\n",
      "|summary|    length_of_text|\n",
      "+-------+------------------+\n",
      "|  count|           9490914|\n",
      "|   mean|176.19741776187203|\n",
      "| stddev| 257.6948700813019|\n",
      "|    min|                 0|\n",
      "|    max|             10000|\n",
      "+-------+------------------+\n",
      "\n"
     ]
    },
    {
     "name": "stderr",
     "output_type": "stream",
     "text": [
      "                                                                                \r"
     ]
    },
    {
     "name": "stdout",
     "output_type": "stream",
     "text": [
      "+-------+--------------------+\n",
      "|summary|             encoded|\n",
      "+-------+--------------------+\n",
      "|  count|             9490914|\n",
      "|   mean|                 NaN|\n",
      "| stddev|                 NaN|\n",
      "|    min|                    |\n",
      "|    max|🩰\"What does this...|\n",
      "+-------+--------------------+\n",
      "\n"
     ]
    },
    {
     "name": "stderr",
     "output_type": "stream",
     "text": [
      "                                                                                \r"
     ]
    },
    {
     "name": "stdout",
     "output_type": "stream",
     "text": [
      "+-------+--------------------+\n",
      "|summary|      text_has_emoji|\n",
      "+-------+--------------------+\n",
      "|  count|             9490914|\n",
      "|   mean|7.586202972653635E-6|\n",
      "| stddev|0.002754295957496...|\n",
      "|    min|                   0|\n",
      "|    max|                   1|\n",
      "+-------+--------------------+\n",
      "\n"
     ]
    },
    {
     "name": "stderr",
     "output_type": "stream",
     "text": [
      "                                                                                \r"
     ]
    },
    {
     "name": "stdout",
     "output_type": "stream",
     "text": [
      "+-------+--------------------+\n",
      "|summary|   text_has_cussword|\n",
      "+-------+--------------------+\n",
      "|  count|             9490914|\n",
      "|   mean|4.214557207029797E-5|\n",
      "| stddev|0.006491825649344675|\n",
      "|    min|                   0|\n",
      "|    max|                   1|\n",
      "+-------+--------------------+\n",
      "\n",
      "None\n"
     ]
    }
   ],
   "source": [
    "def descriptives(columns):\n",
    "    for c in columns:\n",
    "        df.describe(c).show()\n",
    "        \n",
    "print(descriptives(df.columns))"
   ]
  },
  {
   "cell_type": "markdown",
   "id": "bff958fb-3e1b-414c-b567-cc946cf09028",
   "metadata": {},
   "source": [
    "## Remove Outliers "
   ]
  },
  {
   "cell_type": "code",
   "execution_count": 27,
   "id": "465659af-6b0d-4fa1-9207-8b709dbb20d2",
   "metadata": {},
   "outputs": [],
   "source": [
    "def remove_outliers(column, df):\n",
    "    mean = df.agg({column: 'mean'}).collect()[0][0]\n",
    "    stddev = df.agg({column: 'stddev'}).collect()[0][0]\n",
    "\n",
    "    cutoff = mean + (stddev*2.5)\n",
    "\n",
    "    df = df.filter(df.length_of_text < cutoff)\n",
    "    return df"
   ]
  },
  {
   "cell_type": "code",
   "execution_count": 28,
   "id": "09393239-a594-40c4-9584-7e172a68c50e",
   "metadata": {},
   "outputs": [
    {
     "name": "stderr",
     "output_type": "stream",
     "text": [
      "                                                                                \r"
     ]
    }
   ],
   "source": [
    "df = remove_outliers('score', df)\n",
    "df = remove_outliers('length_of_text', df)\n",
    "#df = remove_outliers('text_has_cussword', df)\n",
    "#df = remove_outliers('controversiality', df)"
   ]
  },
  {
   "cell_type": "markdown",
   "id": "83e90ce4-72e5-4b5b-a7de-40ce82b110b1",
   "metadata": {},
   "source": [
    "### Plot Distributions"
   ]
  },
  {
   "cell_type": "code",
   "execution_count": 31,
   "id": "50eb1b31-2111-44fa-972f-0c84f14724c3",
   "metadata": {},
   "outputs": [
    {
     "name": "stderr",
     "output_type": "stream",
     "text": [
      "                                                                                \r"
     ]
    }
   ],
   "source": [
    "pd_df = df.sample(0.25).toPandas()"
   ]
  },
  {
   "cell_type": "code",
   "execution_count": 29,
   "id": "c382cb98-8416-416f-a117-10a22cae3d05",
   "metadata": {},
   "outputs": [],
   "source": [
    "def histogram(df, col, bins=5, xname=None, yname=None):\n",
    "    \n",
    "    '''\n",
    "    This function makes a histogram from spark dataframe named \n",
    "    df for column name col. \n",
    "    '''\n",
    "    \n",
    "    # Calculating histogram in Spark \n",
    "    vals = df.select(col).rdd.flatMap(lambda x: x).histogram(bins)\n",
    "    \n",
    "    # Preprocessing histogram points and locations \n",
    "    width = vals[0][1] - vals[0][0]\n",
    "    loc = [vals[0][0] + (i+1) * width for i in range(len(vals[1]))]\n",
    "    \n",
    "    # Making a bar plot \n",
    "    plt.bar(loc, vals[1], width=width,color=\"#4404f4\")\n",
    "    plt.xlabel(xname)\n",
    "    plt.ylabel(yname)\n",
    "    plt.show()"
   ]
  },
  {
   "cell_type": "code",
   "execution_count": 30,
   "id": "cb78c6a8-d7e8-40e4-abb3-69596ff7a190",
   "metadata": {},
   "outputs": [
    {
     "name": "stderr",
     "output_type": "stream",
     "text": [
      "                                                                                \r"
     ]
    },
    {
     "data": {
      "image/png": "[encoded data removed]",
      "text/plain": [
       "<Figure size 432x288 with 1 Axes>"
      ]
     },
     "metadata": {
      "needs_background": "light"
     },
     "output_type": "display_data"
    },
    {
     "data": {
      "text/plain": [
       "<Figure size 432x288 with 0 Axes>"
      ]
     },
     "metadata": {},
     "output_type": "display_data"
    }
   ],
   "source": [
    "## Length of text\n",
    "histogram(df, 'length_of_text', xname = 'Length of Text', yname='Counts')\n",
    "plt.savefig('score_dist')"
   ]
  },
  {
   "cell_type": "markdown",
   "id": "07f43a44-54ad-495d-bdc5-a0777feb25dc",
   "metadata": {},
   "source": [
    "#### text has emoji"
   ]
  },
  {
   "cell_type": "code",
   "execution_count": 32,
   "id": "4ef4ed11-f682-4c95-b970-2978e992293e",
   "metadata": {},
   "outputs": [
    {
     "data": {
      "image/png": "[encoded data removed]",
      "text/plain": [
       "<Figure size 432x288 with 1 Axes>"
      ]
     },
     "metadata": {
      "needs_background": "light"
     },
     "output_type": "display_data"
    }
   ],
   "source": [
    "import seaborn as sns\n",
    "p = sns.countplot(data=pd_df, x='text_has_emoji', color=\"#4404f4\")\n",
    "plt.savefig('has_emoji')"
   ]
  },
  {
   "cell_type": "code",
   "execution_count": 33,
   "id": "d9eb05a6-0221-48d3-b4eb-43eda191fcd9",
   "metadata": {},
   "outputs": [
    {
     "name": "stderr",
     "output_type": "stream",
     "text": [
      "                                                                                \r"
     ]
    },
    {
     "data": {
      "text/plain": [
       "49"
      ]
     },
     "execution_count": 33,
     "metadata": {},
     "output_type": "execute_result"
    }
   ],
   "source": [
    "## filter \n",
    "df.filter(df.text_has_emoji ==1).count()"
   ]
  },
  {
   "cell_type": "markdown",
   "id": "b97e7db9-1ca6-43a1-8ba5-cb46bcff0c22",
   "metadata": {},
   "source": [
    "#### text has cussword"
   ]
  },
  {
   "cell_type": "code",
   "execution_count": 41,
   "id": "05f1261c-b4c8-4ba7-9050-c44393a9c6d7",
   "metadata": {},
   "outputs": [
    {
     "data": {
      "image/png": "[encoded data removed]",
      "text/plain": [
       "<Figure size 432x288 with 1 Axes>"
      ]
     },
     "metadata": {
      "needs_background": "light"
     },
     "output_type": "display_data"
    }
   ],
   "source": [
    "############## bar graph\n",
    "p = sns.countplot(data=pd_df, x='text_has_cussword', color=\"#4404f4\")\n",
    "plt.savefig('has_cussword')"
   ]
  },
  {
   "cell_type": "code",
   "execution_count": 35,
   "id": "c60a7575-366f-4a21-a8db-c938b297a2ae",
   "metadata": {},
   "outputs": [
    {
     "name": "stderr",
     "output_type": "stream",
     "text": [
      "                                                                                \r"
     ]
    },
    {
     "data": {
      "text/plain": [
       "400"
      ]
     },
     "execution_count": 35,
     "metadata": {},
     "output_type": "execute_result"
    }
   ],
   "source": [
    "## filter \n",
    "df.filter(df.text_has_cussword == 1).count()"
   ]
  },
  {
   "cell_type": "code",
   "execution_count": 36,
   "id": "9bbb9b11-2e7f-4338-9b98-be33b32de1c0",
   "metadata": {},
   "outputs": [
    {
     "data": {
      "image/png": "[encoded data removed]",
      "text/plain": [
       "<Figure size 432x288 with 1 Axes>"
      ]
     },
     "metadata": {
      "needs_background": "light"
     },
     "output_type": "display_data"
    }
   ],
   "source": [
    "## Controversiality\n",
    "p = sns.countplot(data=pd_df, x='controversiality', color=\"#4404f4\")\n",
    "plt.savefig('controversiality')"
   ]
  },
  {
   "cell_type": "code",
   "execution_count": 37,
   "id": "a5106c46-1852-4b3f-a0b3-20f0ff05e721",
   "metadata": {},
   "outputs": [
    {
     "name": "stderr",
     "output_type": "stream",
     "text": [
      "                                                                                \r"
     ]
    },
    {
     "data": {
      "text/plain": [
       "93448"
      ]
     },
     "execution_count": 37,
     "metadata": {},
     "output_type": "execute_result"
    }
   ],
   "source": [
    "## filter \n",
    "df.filter(df.controversiality == 1).count()"
   ]
  },
  {
   "cell_type": "markdown",
   "id": "be5243d0-c567-47e8-845b-712746c3cdba",
   "metadata": {},
   "source": [
    "### Gilded"
   ]
  },
  {
   "cell_type": "code",
   "execution_count": 38,
   "id": "59b1cf32-08e1-400d-8320-ad4c0cca241f",
   "metadata": {},
   "outputs": [
    {
     "name": "stderr",
     "output_type": "stream",
     "text": [
      "                                                                                \r"
     ]
    },
    {
     "data": {
      "image/png": "[encoded data removed]",
      "text/plain": [
       "<Figure size 432x288 with 1 Axes>"
      ]
     },
     "metadata": {
      "needs_background": "light"
     },
     "output_type": "display_data"
    },
    {
     "data": {
      "text/plain": [
       "<Figure size 432x288 with 0 Axes>"
      ]
     },
     "metadata": {},
     "output_type": "display_data"
    }
   ],
   "source": [
    "histogram(df, 'gilded', xname = 'Gilded',yname='Count')\n",
    "plt.savefig('gilded')"
   ]
  },
  {
   "cell_type": "markdown",
   "id": "abf8f9c9-7841-4c21-8129-0d0a89c48a9d",
   "metadata": {},
   "source": [
    "### Total Awards Received"
   ]
  },
  {
   "cell_type": "code",
   "execution_count": 39,
   "id": "cf020cda-7a4a-4ad6-bc3c-737b74a8fb75",
   "metadata": {},
   "outputs": [
    {
     "name": "stderr",
     "output_type": "stream",
     "text": [
      "                                                                                \r"
     ]
    },
    {
     "data": {
      "image/png": "[encoded data removed]",
      "text/plain": [
       "<Figure size 432x288 with 1 Axes>"
      ]
     },
     "metadata": {
      "needs_background": "light"
     },
     "output_type": "display_data"
    },
    {
     "data": {
      "text/plain": [
       "<Figure size 432x288 with 0 Axes>"
      ]
     },
     "metadata": {},
     "output_type": "display_data"
    }
   ],
   "source": [
    "########## manually change to limit max\n",
    "histogram(df, 'total_awards_received',xname = 'Total Awards Received', yname='Count')\n",
    "plt.savefig('total_awards')"
   ]
  },
  {
   "cell_type": "markdown",
   "id": "cebf95bd-a78e-459f-b42d-6b08616a39af",
   "metadata": {},
   "source": [
    "## Score"
   ]
  },
  {
   "cell_type": "code",
   "execution_count": 62,
   "id": "3ffc22e9-f170-46ed-a25d-85b42e71b465",
   "metadata": {},
   "outputs": [
    {
     "name": "stderr",
     "output_type": "stream",
     "text": [
      "                                                                                \r"
     ]
    },
    {
     "data": {
      "image/png": "[encoded data removed]",
      "text/plain": [
       "<Figure size 432x288 with 1 Axes>"
      ]
     },
     "metadata": {
      "needs_background": "light"
     },
     "output_type": "display_data"
    }
   ],
   "source": [
    "## Score\n",
    "histogram(df, 'score', xname = 'Score', yname='Count')"
   ]
  },
  {
   "cell_type": "code",
   "execution_count": 77,
   "id": "25c0255f-5756-440b-9c50-74e8bca95ae0",
   "metadata": {},
   "outputs": [],
   "source": [
    "df_score = df.filter(df.score < 500)\n",
    "#vals = df.select('score').rdd.flatMap(lambda x: x).histogram(5)"
   ]
  },
  {
   "cell_type": "code",
   "execution_count": 85,
   "id": "1f098001-5614-4d05-9082-ae22dac90ac5",
   "metadata": {},
   "outputs": [
    {
     "data": {
      "text/plain": [
       "([-1136, -809, -482, -155, 172, 499], [2, 5, 162, 7563936, 39435])"
      ]
     },
     "execution_count": 85,
     "metadata": {},
     "output_type": "execute_result"
    }
   ],
   "source": [
    "vals"
   ]
  },
  {
   "cell_type": "code",
   "execution_count": 82,
   "id": "444d510a-94f0-4e54-b644-6b9770c6ec8d",
   "metadata": {},
   "outputs": [
    {
     "name": "stderr",
     "output_type": "stream",
     "text": [
      "                                                                                \r"
     ]
    },
    {
     "data": {
      "image/png": "[encoded data removed]",
      "text/plain": [
       "<Figure size 432x288 with 1 Axes>"
      ]
     },
     "metadata": {
      "needs_background": "light"
     },
     "output_type": "display_data"
    }
   ],
   "source": [
    "# Preprocessing histogram points and locations \n",
    "vals = df_score.select('score').rdd.flatMap(lambda x: x).histogram(5)\n",
    "\n",
    "width = vals[0][1] - vals[0][0]\n",
    "loc = [vals[0][0] + (i+1) * width for i in range(len(vals[1]))]\n",
    "\n",
    "# Making a bar plot \n",
    "plt.bar(loc, vals[1], width=width, color=\"#4404f4\")\n",
    "plt.xlim((0, 400))\n",
    "plt.xlabel('Score')\n",
    "plt.ylabel('Count')\n",
    "plt.show()"
   ]
  },
  {
   "cell_type": "markdown",
   "id": "d0ed387a-d02f-41a4-803f-33947b57faeb",
   "metadata": {},
   "source": [
    "### Over time"
   ]
  },
  {
   "cell_type": "code",
   "execution_count": 42,
   "id": "9979bc4d-63cd-4225-9905-1f822fb638de",
   "metadata": {},
   "outputs": [],
   "source": [
    "def boxplot(df, col, group_by, samp_size=10000): \n",
    "    \n",
    "    '''\n",
    "    This function makes a box plot for a Spark dataframe df \n",
    "    grouping them by a column name called group_by and their\n",
    "    aggrigate on another column called col. \n",
    "    '''\n",
    "    \n",
    "    # Selecting sample for the large dataset \n",
    "    # For samll data sampling is not done. For the large data \n",
    "    # sample size is the specified number. \n",
    "    \n",
    "    #true_samp_size = min(samp_size/df.count(), 1.0)\n",
    "    pd_df = df.sample(False, samp_size).toPandas()\n",
    "    \n",
    "    # Making plot \n",
    "    pd_df.boxplot(col, by=group_by, figsize=(8, 5))\n",
    "    plt.ylabel(col)\n",
    "\n",
    "    plt.title(None)\n",
    "    plt.show()"
   ]
  },
  {
   "cell_type": "code",
   "execution_count": 43,
   "id": "9856b350-c016-49fc-b23d-babdf65ae33d",
   "metadata": {},
   "outputs": [],
   "source": [
    "df = df.withColumn(\"created_utc\", col(\"created_utc\").cast('TIMESTAMP'))\n",
    "\n",
    "df = df.withColumn(\"day_of_year\",dayofyear(df.created_utc)) \\\n",
    "    .withColumn(\"month_of_year\",month(df.created_utc))"
   ]
  },
  {
   "cell_type": "code",
   "execution_count": 30,
   "id": "7105a666-f773-49af-bbf6-d254a66d3620",
   "metadata": {},
   "outputs": [
    {
     "name": "stderr",
     "output_type": "stream",
     "text": [
      "                                                                                \r"
     ]
    }
   ],
   "source": [
    "#true_samp_size = min(samp_size/df.count(), 1.0)\n",
    "#pd_df = df.sample(10000)#.toPandas()\n"
   ]
  },
  {
   "cell_type": "code",
   "execution_count": null,
   "id": "9f91f38e-4c09-4138-a522-ad54f756c0a0",
   "metadata": {},
   "outputs": [
    {
     "name": "stderr",
     "output_type": "stream",
     "text": [
      "[Stage 802:>                                                       (0 + 0) / 57]\r"
     ]
    }
   ],
   "source": [
    "## plot box plots by month of year to check for seasonality\n",
    "pd_df = df.sample(0.25).toPandas()\n",
    "pd_df.boxplot('score', by='month_of_year', figsize=(8, 5), color=\"#4404f4\")\n",
    "plt.ylabel(col)\n",
    "\n",
    "plt.title(None)\n",
    "plt.show()"
   ]
  },
  {
   "cell_type": "markdown",
   "id": "5b0011f6-3cfb-44d4-b712-6d2424ac62de",
   "metadata": {},
   "source": [
    "# Model \n",
    "Build a supervised learning model (either regression or classification type) to build insights on the data. You must have evaluation metrics on the performance of your method - R2, accuracy, F1, etc. You are welcome to try different modeling techniques that you are comfortable with - linear/logit regression, random forest, gradient boosting, neural network, etc.\n",
    "\n",
    "Recommended model types:\n",
    "Predicting score of reddit posts based on the text, user, etc.\n",
    "Predicting number of reddit posts over time\n",
    "\n"
   ]
  },
  {
   "cell_type": "code",
   "execution_count": 82,
   "id": "de661fba-03de-44f2-9b05-333f1ee09388",
   "metadata": {},
   "outputs": [],
   "source": [
    "features = ['length_of_text', 'text_has_emoji', 'text_has_cussword', 'controversiality', 'gilded']"
   ]
  },
  {
   "cell_type": "code",
   "execution_count": 83,
   "id": "92147a1d-8c40-41fc-ab4b-d3bc13ebac5d",
   "metadata": {},
   "outputs": [],
   "source": [
    "# Index and encode categorical feature 'last_state'\n",
    "stringIndexerState = StringIndexer(inputCol=\"last_state\", \n",
    "                                   outputCol=\"stateIndex\")\n",
    "\n",
    "encoder = OneHotEncoder(inputCol=\"stateIndex\",\n",
    "                        outputCol=\"stateVec\")\n",
    "\n",
    "\n",
    "\n",
    "# Merge multiple columns into a vector column\n",
    "assemblers = VectorAssembler(inputCols=features, outputCol=\"rawFeatures\", handleInvalid = \"keep\")\n",
    "\n",
    "# Scale features\n",
    "scalers = MinMaxScaler(inputCol=\"rawFeatures\", outputCol='features')"
   ]
  },
  {
   "cell_type": "markdown",
   "id": "953c62b4-7142-4b0f-ad64-24d0acca1953",
   "metadata": {},
   "source": [
    "## Linear Regression Classifier"
   ]
  },
  {
   "cell_type": "code",
   "execution_count": 84,
   "id": "900ac529-2778-46e0-8336-cb8c23b57b13",
   "metadata": {},
   "outputs": [
    {
     "name": "stderr",
     "output_type": "stream",
     "text": [
      "                                                                                \r"
     ]
    },
    {
     "name": "stdout",
     "output_type": "stream",
     "text": [
      "+---------------+-----+\n",
      "|     Attributes|score|\n",
      "+---------------+-----+\n",
      "|(5,[0],[254.0])|    2|\n",
      "|  (5,[0],[9.0])|    1|\n",
      "|(5,[0],[131.0])|   18|\n",
      "|  (5,[0],[9.0])|    3|\n",
      "| (5,[0],[36.0])|    2|\n",
      "| (5,[0],[16.0])|    2|\n",
      "| (5,[0],[47.0])|   62|\n",
      "| (5,[0],[68.0])|    1|\n",
      "|(5,[0],[126.0])|   59|\n",
      "| (5,[0],[40.0])|    2|\n",
      "| (5,[0],[17.0])|    2|\n",
      "| (5,[0],[27.0])|    3|\n",
      "| (5,[0],[46.0])|    1|\n",
      "| (5,[0],[88.0])|    2|\n",
      "|  (5,[0],[9.0])|    3|\n",
      "| (5,[0],[55.0])|    6|\n",
      "| (5,[0],[17.0])|    9|\n",
      "| (5,[0],[70.0])|    4|\n",
      "|  (5,[0],[7.0])|    2|\n",
      "| (5,[0],[46.0])|   10|\n",
      "+---------------+-----+\n",
      "only showing top 20 rows\n",
      "\n"
     ]
    },
    {
     "name": "stderr",
     "output_type": "stream",
     "text": [
      "                                                                                \r"
     ]
    }
   ],
   "source": [
    "#Input all the features in one vector column\n",
    "assembler = VectorAssembler(inputCols=features, outputCol = 'Attributes')\n",
    "\n",
    "output = assembler.transform(df)\n",
    "\n",
    "#Input vs Output\n",
    "finalized_data = output.select(\"Attributes\",\"score\")\n",
    "\n",
    "finalized_data.show()"
   ]
  },
  {
   "cell_type": "code",
   "execution_count": 85,
   "id": "7e460b46-2a9c-41cc-a821-4d861194ceff",
   "metadata": {},
   "outputs": [
    {
     "name": "stderr",
     "output_type": "stream",
     "text": [
      "22/05/04 02:14:31 WARN Instrumentation: [edc09c81] regParam is zero, which might cause numerical instability and overfitting.\n",
      "[Stage 2860:==========================================>             (3 + 1) / 4]\r"
     ]
    },
    {
     "name": "stdout",
     "output_type": "stream",
     "text": [
      "+-------------+-----+------------------+\n",
      "|   Attributes|score|        prediction|\n",
      "+-------------+-----+------------------+\n",
      "|    (5,[],[])|    1|7.9136450244740795|\n",
      "|(5,[0],[1.0])|    0| 7.962792932365193|\n",
      "|(5,[0],[1.0])|    0| 7.962792932365193|\n",
      "|(5,[0],[1.0])|    1| 7.962792932365193|\n",
      "|(5,[0],[1.0])|    1| 7.962792932365193|\n",
      "|(5,[0],[1.0])|    1| 7.962792932365193|\n",
      "|(5,[0],[1.0])|    1| 7.962792932365193|\n",
      "|(5,[0],[1.0])|    1| 7.962792932365193|\n",
      "|(5,[0],[1.0])|    1| 7.962792932365193|\n",
      "|(5,[0],[1.0])|    1| 7.962792932365193|\n",
      "|(5,[0],[1.0])|    1| 7.962792932365193|\n",
      "|(5,[0],[1.0])|    1| 7.962792932365193|\n",
      "|(5,[0],[1.0])|    1| 7.962792932365193|\n",
      "|(5,[0],[1.0])|    2| 7.962792932365193|\n",
      "|(5,[0],[1.0])|    2| 7.962792932365193|\n",
      "|(5,[0],[1.0])|    2| 7.962792932365193|\n",
      "|(5,[0],[1.0])|    3| 7.962792932365193|\n",
      "|(5,[0],[1.0])|    3| 7.962792932365193|\n",
      "|(5,[0],[1.0])|    3| 7.962792932365193|\n",
      "|(5,[0],[1.0])|    3| 7.962792932365193|\n",
      "+-------------+-----+------------------+\n",
      "only showing top 20 rows\n",
      "\n"
     ]
    },
    {
     "name": "stderr",
     "output_type": "stream",
     "text": [
      "                                                                                \r"
     ]
    }
   ],
   "source": [
    "#Split training and testing data\n",
    "train_data,test_data = finalized_data.randomSplit([0.8,0.2])\n",
    "\n",
    "regressor = LinearRegression(featuresCol = 'Attributes', labelCol = 'score')\n",
    "\n",
    "#Learn to fit the model from training set\n",
    "regressor = regressor.fit(train_data)\n",
    "\n",
    "#To predict the prices on testing set\n",
    "pred = regressor.evaluate(test_data)\n",
    "\n",
    "#Predict the model\n",
    "pred.predictions.show()"
   ]
  },
  {
   "cell_type": "code",
   "execution_count": 86,
   "id": "012a01ea-e97a-40b3-89a3-f719f7569c8a",
   "metadata": {},
   "outputs": [
    {
     "name": "stdout",
     "output_type": "stream",
     "text": [
      "The coefficient of the model is : DenseVector([0.0491, -8.708, -5.0413, -11.7212, 1617.1881])\n",
      "The Intercept of the model is : 7.913645\n"
     ]
    }
   ],
   "source": [
    "#coefficient of the regression model\n",
    "coeff = regressor.coefficients\n",
    "\n",
    "#X and Y intercept\n",
    "intr = regressor.intercept\n",
    "\n",
    "print (\"The coefficient of the model is : %a\" %coeff)\n",
    "print (\"The Intercept of the model is : %f\" %intr)"
   ]
  },
  {
   "cell_type": "markdown",
   "id": "ad092add-4b7c-4d8b-8a61-d8ca44cdb876",
   "metadata": {},
   "source": [
    "## Logistic Regression Classifier"
   ]
  },
  {
   "cell_type": "code",
   "execution_count": 87,
   "id": "f94cca7b-2f74-4a46-83da-9d81a05722e4",
   "metadata": {},
   "outputs": [],
   "source": [
    "## turn into binary classification problem\n",
    "df = df.withColumn('has_high_score', when(df.score > 100, 1).otherwise(0))"
   ]
  },
  {
   "cell_type": "code",
   "execution_count": 88,
   "id": "0a80d177-5fb5-4124-b7f6-5a924f20f5f8",
   "metadata": {},
   "outputs": [
    {
     "name": "stderr",
     "output_type": "stream",
     "text": [
      "[Stage 2862:============================>                           (2 + 2) / 4]\r"
     ]
    },
    {
     "name": "stdout",
     "output_type": "stream",
     "text": [
      "+---------------+--------------+\n",
      "|     Attributes|has_high_score|\n",
      "+---------------+--------------+\n",
      "|(5,[0],[254.0])|             0|\n",
      "|  (5,[0],[9.0])|             0|\n",
      "|(5,[0],[131.0])|             0|\n",
      "|  (5,[0],[9.0])|             0|\n",
      "| (5,[0],[36.0])|             0|\n",
      "| (5,[0],[16.0])|             0|\n",
      "| (5,[0],[47.0])|             0|\n",
      "| (5,[0],[68.0])|             0|\n",
      "|(5,[0],[126.0])|             0|\n",
      "| (5,[0],[40.0])|             0|\n",
      "| (5,[0],[17.0])|             0|\n",
      "| (5,[0],[27.0])|             0|\n",
      "| (5,[0],[46.0])|             0|\n",
      "| (5,[0],[88.0])|             0|\n",
      "|  (5,[0],[9.0])|             0|\n",
      "| (5,[0],[55.0])|             0|\n",
      "| (5,[0],[17.0])|             0|\n",
      "| (5,[0],[70.0])|             0|\n",
      "|  (5,[0],[7.0])|             0|\n",
      "| (5,[0],[46.0])|             0|\n",
      "+---------------+--------------+\n",
      "only showing top 20 rows\n",
      "\n"
     ]
    },
    {
     "name": "stderr",
     "output_type": "stream",
     "text": [
      "                                                                                \r"
     ]
    }
   ],
   "source": [
    "#Input all the features in one vector column\n",
    "assembler = VectorAssembler(inputCols=features, outputCol = 'Attributes')\n",
    "\n",
    "output = assembler.transform(df)\n",
    "\n",
    "#Input vs Output\n",
    "finalized_data = output.select(\"Attributes\",'has_high_score')\n",
    "\n",
    "finalized_data.show()"
   ]
  },
  {
   "cell_type": "code",
   "execution_count": 89,
   "id": "8f6fb318-677e-4804-8b76-85550cf623f9",
   "metadata": {},
   "outputs": [
    {
     "name": "stderr",
     "output_type": "stream",
     "text": [
      "[Stage 2944:============================>                           (2 + 2) / 4]\r"
     ]
    },
    {
     "name": "stdout",
     "output_type": "stream",
     "text": [
      "+-------------+--------------+--------------------+--------------------+----------+\n",
      "|   Attributes|has_high_score|       rawPrediction|         probability|prediction|\n",
      "+-------------+--------------+--------------------+--------------------+----------+\n",
      "|(5,[0],[1.0])|             0|[4.61429848200267...|[0.99018809506119...|       0.0|\n",
      "|(5,[0],[1.0])|             0|[4.61429848200267...|[0.99018809506119...|       0.0|\n",
      "|(5,[0],[1.0])|             0|[4.61429848200267...|[0.99018809506119...|       0.0|\n",
      "|(5,[0],[1.0])|             0|[4.61429848200267...|[0.99018809506119...|       0.0|\n",
      "|(5,[0],[1.0])|             0|[4.61429848200267...|[0.99018809506119...|       0.0|\n",
      "|(5,[0],[1.0])|             0|[4.61429848200267...|[0.99018809506119...|       0.0|\n",
      "|(5,[0],[1.0])|             0|[4.61429848200267...|[0.99018809506119...|       0.0|\n",
      "|(5,[0],[1.0])|             0|[4.61429848200267...|[0.99018809506119...|       0.0|\n",
      "|(5,[0],[1.0])|             0|[4.61429848200267...|[0.99018809506119...|       0.0|\n",
      "|(5,[0],[1.0])|             0|[4.61429848200267...|[0.99018809506119...|       0.0|\n",
      "|(5,[0],[1.0])|             0|[4.61429848200267...|[0.99018809506119...|       0.0|\n",
      "|(5,[0],[1.0])|             0|[4.61429848200267...|[0.99018809506119...|       0.0|\n",
      "|(5,[0],[1.0])|             0|[4.61429848200267...|[0.99018809506119...|       0.0|\n",
      "|(5,[0],[1.0])|             0|[4.61429848200267...|[0.99018809506119...|       0.0|\n",
      "|(5,[0],[1.0])|             0|[4.61429848200267...|[0.99018809506119...|       0.0|\n",
      "|(5,[0],[1.0])|             0|[4.61429848200267...|[0.99018809506119...|       0.0|\n",
      "|(5,[0],[1.0])|             0|[4.61429848200267...|[0.99018809506119...|       0.0|\n",
      "|(5,[0],[2.0])|             0|[4.61003738499812...|[0.99014660922276...|       0.0|\n",
      "|(5,[0],[2.0])|             0|[4.61003738499812...|[0.99014660922276...|       0.0|\n",
      "|(5,[0],[2.0])|             0|[4.61003738499812...|[0.99014660922276...|       0.0|\n",
      "+-------------+--------------+--------------------+--------------------+----------+\n",
      "only showing top 20 rows\n",
      "\n"
     ]
    },
    {
     "name": "stderr",
     "output_type": "stream",
     "text": [
      "                                                                                \r"
     ]
    }
   ],
   "source": [
    "#Split training and testing data\n",
    "train_data,test_data = finalized_data.randomSplit([0.8,0.2])\n",
    "\n",
    "# Initialize Logistic Regression Classifier\n",
    "lr = LogisticRegression(featuresCol='Attributes', labelCol='has_high_score')\n",
    "\n",
    "#Learn to fit the model from training set\n",
    "lr = lr.fit(train_data)\n",
    "\n",
    "#To predict the prices on testing set\n",
    "pred = lr.evaluate(test_data)\n",
    "\n",
    "#Predict the model\n",
    "pred.predictions.show()"
   ]
  },
  {
   "cell_type": "code",
   "execution_count": 51,
   "id": "1cd48b2f-e580-4680-907a-58fbe6204d64",
   "metadata": {},
   "outputs": [
    {
     "name": "stdout",
     "output_type": "stream",
     "text": [
      "The coefficient of the model is : DenseVector([0.0041, -16.9144, 1.7021, -17.5305, 5.5463])\n",
      "The Intercept of the model is : -4.714041\n"
     ]
    }
   ],
   "source": [
    "#coefficient of the regression model\n",
    "coeff = lr.coefficients\n",
    "\n",
    "#X and Y intercept\n",
    "intr = lr.intercept\n",
    "\n",
    "print (\"The coefficient of the model is : %a\" %coeff)\n",
    "print (\"The Intercept of the model is : %f\" %intr)"
   ]
  },
  {
   "cell_type": "code",
   "execution_count": null,
   "id": "ff46b42f-ac2f-46f4-87b0-81298012c782",
   "metadata": {},
   "outputs": [],
   "source": [
    "#cvModel_lr = crossval_lr.fit(train)"
   ]
  },
  {
   "cell_type": "code",
   "execution_count": null,
   "id": "06816229-a322-4e4e-8793-2a3378f4184d",
   "metadata": {},
   "outputs": [],
   "source": [
    "# Save model results\n",
    "#cvModel_lr.save(\"s3://aws-emr-resources-489606719773-us-east-2/notebooks/e-4Z4HSYDPNRFEV3UFZ9WHLAGKM/models/cvModel_lr.mdl\")"
   ]
  },
  {
   "cell_type": "code",
   "execution_count": null,
   "id": "4f05058b-6668-4ded-875b-d2d95d95ea74",
   "metadata": {},
   "outputs": [],
   "source": [
    "# Upload model results\n",
    "cvModel_lr_loaded = CrossValidatorModel.load(\"s3://aws-emr-resources-489606719773-us-east-2/notebooks/e-4Z4HSYDPNRFEV3UFZ9WHLAGKM/models/cvModel_lr.mdl/\")"
   ]
  },
  {
   "cell_type": "code",
   "execution_count": null,
   "id": "251816a7-4ba4-467f-bbe0-b60578a17722",
   "metadata": {},
   "outputs": [],
   "source": [
    "bestModel_lr = cvModel_lr_loaded.bestModel"
   ]
  },
  {
   "cell_type": "code",
   "execution_count": null,
   "id": "cc6bcdec-59e3-49a7-bc2d-ed9987aa67e1",
   "metadata": {},
   "outputs": [],
   "source": [
    "bestModel_lr"
   ]
  },
  {
   "cell_type": "code",
   "execution_count": null,
   "id": "82dc38d9-3014-4816-b559-609a0f57a764",
   "metadata": {},
   "outputs": [],
   "source": [
    "pred_train_best_lr = bestModel_lr.transform(train)\n",
    "pred_test_best_lr = bestModel_lr.transform(test)"
   ]
  },
  {
   "cell_type": "markdown",
   "id": "eb0d8841-5dd4-48f4-ac09-078ab4e38807",
   "metadata": {},
   "source": [
    "# Error Analysis\n",
    "What is your error analysis, is there any pattern in your less-accurate prediction? Are you showing ROC curves, confusion matrices, residual plots, etc. as appropriate? Think about these questions."
   ]
  },
  {
   "cell_type": "markdown",
   "id": "6c4f7030-6d7e-45d7-92e8-285507201e1a",
   "metadata": {},
   "source": [
    "## Linear Regression"
   ]
  },
  {
   "cell_type": "code",
   "execution_count": 43,
   "id": "0032066d-99be-49ff-ab84-1069464dfef5",
   "metadata": {},
   "outputs": [
    {
     "name": "stderr",
     "output_type": "stream",
     "text": [
      "                                                                                \r"
     ]
    },
    {
     "name": "stdout",
     "output_type": "stream",
     "text": [
      "RMSE: 170.534\n"
     ]
    },
    {
     "name": "stderr",
     "output_type": "stream",
     "text": [
      "                                                                                \r"
     ]
    },
    {
     "name": "stdout",
     "output_type": "stream",
     "text": [
      "MSE: 29081.709\n"
     ]
    },
    {
     "name": "stderr",
     "output_type": "stream",
     "text": [
      "                                                                                \r"
     ]
    },
    {
     "name": "stdout",
     "output_type": "stream",
     "text": [
      "MAE: 16.849\n"
     ]
    },
    {
     "name": "stderr",
     "output_type": "stream",
     "text": [
      "[Stage 1581:===================================================>  (23 + 1) / 24]\r"
     ]
    },
    {
     "name": "stdout",
     "output_type": "stream",
     "text": [
      "r2: 0.148\n"
     ]
    },
    {
     "name": "stderr",
     "output_type": "stream",
     "text": [
      "                                                                                \r"
     ]
    }
   ],
   "source": [
    "from pyspark.ml.evaluation import RegressionEvaluator\n",
    "eval = RegressionEvaluator(labelCol=\"score\", predictionCol=\"prediction\", metricName=\"rmse\")\n",
    "\n",
    "# Root Mean Square Error\n",
    "rmse = eval.evaluate(pred.predictions)\n",
    "print(\"RMSE: %.3f\" % rmse)\n",
    "\n",
    "# Mean Square Error\n",
    "mse = eval.evaluate(pred.predictions, {eval.metricName: \"mse\"})\n",
    "print(\"MSE: %.3f\" % mse)\n",
    "\n",
    "# Mean Absolute Error\n",
    "mae = eval.evaluate(pred.predictions, {eval.metricName: \"mae\"})\n",
    "print(\"MAE: %.3f\" % mae)\n",
    "\n",
    "# r2 - coefficient of determination\n",
    "r2 = eval.evaluate(pred.predictions, {eval.metricName: \"r2\"})\n",
    "print(\"r2: %.3f\" %r2)"
   ]
  },
  {
   "cell_type": "markdown",
   "id": "72a5d04d-4282-4b58-a03e-6c4c661505af",
   "metadata": {},
   "source": [
    "## Logistic Regression"
   ]
  },
  {
   "cell_type": "code",
   "execution_count": null,
   "id": "f2c5c1ba-1ebf-4b1f-b532-033ce9fb93c2",
   "metadata": {},
   "outputs": [],
   "source": [
    "colSelect = pred.predictions.select(\n",
    "      [F.col('prediction').cast(DoubleType())\n",
    "       ,F.col('has_high_score').cast(DoubleType()).alias('label')])\n",
    "\n",
    "metrics = MulticlassMetrics(colSelect.rdd)\n",
    "mMatrix = metrics.confusionMatrix().toArray().astype(int)"
   ]
  },
  {
   "cell_type": "code",
   "execution_count": 49,
   "id": "0b1a3d84-6d87-42e4-9984-3d3c5ac6ce01",
   "metadata": {},
   "outputs": [
    {
     "data": {
      "image/png": "[encoded data removed]",
      "text/plain": [
       "<Figure size 432x288 with 2 Axes>"
      ]
     },
     "metadata": {
      "needs_background": "light"
     },
     "output_type": "display_data"
    },
    {
     "name": "stderr",
     "output_type": "stream",
     "text": [
      "UsageError: Line magic function `%matplot` not found.\n"
     ]
    }
   ],
   "source": [
    "plt.clf()\n",
    "\n",
    "ax= plt.subplot()\n",
    "sns.heatmap(mMatrix, annot=True, fmt='g', cmap='Blues', ax=ax)\n",
    "ax.xaxis.set_ticklabels(['Avg. Score', 'High Score'])\n",
    "ax.yaxis.set_ticklabels(['Avg. Score', 'High Score'])\n",
    "ax.set_xlabel('Predicted')\n",
    "ax.set_ylabel('Actual')\n",
    "ax.set_title('Confusion Matrix')\n",
    "plt.show()\n",
    "\n",
    "%matplot plt"
   ]
  },
  {
   "cell_type": "markdown",
   "id": "1df83f5c-e7da-46c7-9e5c-5d216f155e60",
   "metadata": {},
   "source": [
    "# Write-up"
   ]
  },
  {
   "cell_type": "code",
   "execution_count": null,
   "id": "8eac4e19-1ad7-451b-b1c5-8b0a6c9f4521",
   "metadata": {},
   "outputs": [],
   "source": []
  }
 ],
 "metadata": {
  "kernelspec": {
   "display_name": "Python 3 (ipykernel)",
   "language": "python",
   "name": "python3"
  },
  "language_info": {
   "codemirror_mode": {
    "name": "ipython",
    "version": 3
   },
   "file_extension": ".py",
   "mimetype": "text/x-python",
   "name": "python",
   "nbconvert_exporter": "python",
   "pygments_lexer": "ipython3",
   "version": "3.7.11"
  }
 },
 "nbformat": 4,
 "nbformat_minor": 5
}
